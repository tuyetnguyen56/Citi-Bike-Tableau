{
 "cells": [
  {
   "cell_type": "markdown",
   "metadata": {},
   "source": [
    "## Merging 2018 Trip Data"
   ]
  },
  {
   "cell_type": "code",
   "execution_count": 71,
   "metadata": {},
   "outputs": [],
   "source": [
    "# Dependencies\n",
    "import pandas as pd"
   ]
  },
  {
   "cell_type": "code",
   "execution_count": 72,
   "metadata": {},
   "outputs": [],
   "source": [
    "# Store filepath in a variable\n",
    "csv1 = \"TripData/JC-201801-citibike-tripdata.csv\"\n",
    "csv2 = \"TripData/JC-201802-citibike-tripdata.csv\"\n",
    "csv3 = \"TripData/JC-201803-citibike-tripdata.csv\"\n",
    "csv4 = \"TripData/JC-201804-citibike-tripdata.csv\"\n",
    "csv5 = \"TripData/JC-201805-citibike-tripdata.csv\"\n",
    "csv6 = \"TripData/JC-201806-citibike-tripdata.csv\"\n",
    "csv7 = \"TripData/JC-201807-citibike-tripdata.csv\"\n",
    "csv8 = \"TripData/JC-201808-citibike-tripdata.csv\"\n",
    "csv9 = \"TripData/JC-201809-citibike-tripdata.csv\"\n",
    "csv10 = \"TripData/JC-201810-citibike-tripdata.csv\"\n",
    "csv11 = \"TripData/JC-201811-citibike-tripdata.csv\"\n",
    "csv12 = \"TripData/JC-201812-citibike-tripdata.csv\""
   ]
  },
  {
   "cell_type": "code",
   "execution_count": 73,
   "metadata": {},
   "outputs": [],
   "source": [
    "# Read CSVs with the pandas library\n",
    "csv1_df = pd.read_csv(csv1, encoding=\"ISO-8859-1\")\n",
    "csv2_df = pd.read_csv(csv2, encoding=\"ISO-8859-1\")\n",
    "csv3_df = pd.read_csv(csv3, encoding=\"ISO-8859-1\")\n",
    "csv4_df = pd.read_csv(csv4, encoding=\"ISO-8859-1\")\n",
    "csv5_df = pd.read_csv(csv5, encoding=\"ISO-8859-1\")\n",
    "csv6_df = pd.read_csv(csv6, encoding=\"ISO-8859-1\")\n",
    "csv7_df = pd.read_csv(csv7, encoding=\"ISO-8859-1\")\n",
    "csv8_df = pd.read_csv(csv8, encoding=\"ISO-8859-1\")\n",
    "csv9_df = pd.read_csv(csv9, encoding=\"ISO-8859-1\")\n",
    "csv10_df = pd.read_csv(csv10, encoding=\"ISO-8859-1\")\n",
    "csv11_df = pd.read_csv(csv11, encoding=\"ISO-8859-1\")\n",
    "csv12_df = pd.read_csv(csv12, encoding=\"ISO-8859-1\")"
   ]
  },
  {
   "cell_type": "code",
   "execution_count": 74,
   "metadata": {},
   "outputs": [
    {
     "data": {
      "text/html": [
       "<div>\n",
       "<style scoped>\n",
       "    .dataframe tbody tr th:only-of-type {\n",
       "        vertical-align: middle;\n",
       "    }\n",
       "\n",
       "    .dataframe tbody tr th {\n",
       "        vertical-align: top;\n",
       "    }\n",
       "\n",
       "    .dataframe thead th {\n",
       "        text-align: right;\n",
       "    }\n",
       "</style>\n",
       "<table border=\"1\" class=\"dataframe\">\n",
       "  <thead>\n",
       "    <tr style=\"text-align: right;\">\n",
       "      <th></th>\n",
       "      <th>starttime</th>\n",
       "      <th>stoptime</th>\n",
       "    </tr>\n",
       "  </thead>\n",
       "  <tbody>\n",
       "    <tr>\n",
       "      <th>0</th>\n",
       "      <td>2018-01-01 02:06:17.5410</td>\n",
       "      <td>2018-01-01 02:21:50.0270</td>\n",
       "    </tr>\n",
       "    <tr>\n",
       "      <th>1</th>\n",
       "      <td>2018-01-01 12:06:18.0390</td>\n",
       "      <td>2018-01-01 12:15:28.4430</td>\n",
       "    </tr>\n",
       "    <tr>\n",
       "      <th>2</th>\n",
       "      <td>2018-01-01 12:06:56.9780</td>\n",
       "      <td>2018-01-01 12:15:27.8100</td>\n",
       "    </tr>\n",
       "    <tr>\n",
       "      <th>3</th>\n",
       "      <td>2018-01-01 14:53:10.1860</td>\n",
       "      <td>2018-01-01 14:59:05.0960</td>\n",
       "    </tr>\n",
       "    <tr>\n",
       "      <th>4</th>\n",
       "      <td>2018-01-01 17:34:30.1920</td>\n",
       "      <td>2018-01-01 17:38:40.9840</td>\n",
       "    </tr>\n",
       "  </tbody>\n",
       "</table>\n",
       "</div>"
      ],
      "text/plain": [
       "                  starttime                  stoptime\n",
       "0  2018-01-01 02:06:17.5410  2018-01-01 02:21:50.0270\n",
       "1  2018-01-01 12:06:18.0390  2018-01-01 12:15:28.4430\n",
       "2  2018-01-01 12:06:56.9780  2018-01-01 12:15:27.8100\n",
       "3  2018-01-01 14:53:10.1860  2018-01-01 14:59:05.0960\n",
       "4  2018-01-01 17:34:30.1920  2018-01-01 17:38:40.9840"
      ]
     },
     "execution_count": 74,
     "metadata": {},
     "output_type": "execute_result"
    }
   ],
   "source": [
    "# csv1_df.head()\n",
    "csv1_df[[\"starttime\", \"stoptime\"]].head()"
   ]
  },
  {
   "cell_type": "code",
   "execution_count": 75,
   "metadata": {},
   "outputs": [
    {
     "data": {
      "text/html": [
       "<div>\n",
       "<style scoped>\n",
       "    .dataframe tbody tr th:only-of-type {\n",
       "        vertical-align: middle;\n",
       "    }\n",
       "\n",
       "    .dataframe tbody tr th {\n",
       "        vertical-align: top;\n",
       "    }\n",
       "\n",
       "    .dataframe thead th {\n",
       "        text-align: right;\n",
       "    }\n",
       "</style>\n",
       "<table border=\"1\" class=\"dataframe\">\n",
       "  <thead>\n",
       "    <tr style=\"text-align: right;\">\n",
       "      <th></th>\n",
       "      <th>starttime</th>\n",
       "      <th>stoptime</th>\n",
       "    </tr>\n",
       "  </thead>\n",
       "  <tbody>\n",
       "    <tr>\n",
       "      <th>0</th>\n",
       "      <td>2018-02-01 07:38:15.8650</td>\n",
       "      <td>2018-02-01 07:40:30.5820</td>\n",
       "    </tr>\n",
       "    <tr>\n",
       "      <th>1</th>\n",
       "      <td>2018-02-01 08:19:35.8160</td>\n",
       "      <td>2018-02-01 08:26:29.6490</td>\n",
       "    </tr>\n",
       "    <tr>\n",
       "      <th>2</th>\n",
       "      <td>2018-02-01 08:31:03.0860</td>\n",
       "      <td>2018-02-01 08:32:20.3510</td>\n",
       "    </tr>\n",
       "    <tr>\n",
       "      <th>3</th>\n",
       "      <td>2018-02-01 15:23:15.0850</td>\n",
       "      <td>2018-02-01 15:29:59.9300</td>\n",
       "    </tr>\n",
       "    <tr>\n",
       "      <th>4</th>\n",
       "      <td>2018-02-01 15:26:01.8240</td>\n",
       "      <td>2018-02-01 15:29:52.5440</td>\n",
       "    </tr>\n",
       "  </tbody>\n",
       "</table>\n",
       "</div>"
      ],
      "text/plain": [
       "                  starttime                  stoptime\n",
       "0  2018-02-01 07:38:15.8650  2018-02-01 07:40:30.5820\n",
       "1  2018-02-01 08:19:35.8160  2018-02-01 08:26:29.6490\n",
       "2  2018-02-01 08:31:03.0860  2018-02-01 08:32:20.3510\n",
       "3  2018-02-01 15:23:15.0850  2018-02-01 15:29:59.9300\n",
       "4  2018-02-01 15:26:01.8240  2018-02-01 15:29:52.5440"
      ]
     },
     "execution_count": 75,
     "metadata": {},
     "output_type": "execute_result"
    }
   ],
   "source": [
    "# csv2_df.head()\n",
    "csv2_df[[\"starttime\", \"stoptime\"]].head()"
   ]
  },
  {
   "cell_type": "code",
   "execution_count": 76,
   "metadata": {},
   "outputs": [],
   "source": [
    "# compile the list of dataframes you want to merge\n",
    "mergedTripData = pd.concat([csv1_df, csv2_df, csv3_df, csv4_df, csv5_df, csv6_df, csv7_df, csv8_df, csv9_df, csv10_df, csv11_df, csv12_df]) "
   ]
  },
  {
   "cell_type": "code",
   "execution_count": 77,
   "metadata": {},
   "outputs": [],
   "source": [
    "# Remove the period and the last four digits from the 2018 time fields\n",
    "mergedTripData[\"starttime\"] = mergedTripData[\"starttime\"].str.slice(0, -5)\n",
    "mergedTripData[\"stoptime\"] = mergedTripData[\"stoptime\"].str.slice(0, -5)"
   ]
  },
  {
   "cell_type": "code",
   "execution_count": 78,
   "metadata": {},
   "outputs": [
    {
     "data": {
      "text/html": [
       "<div>\n",
       "<style scoped>\n",
       "    .dataframe tbody tr th:only-of-type {\n",
       "        vertical-align: middle;\n",
       "    }\n",
       "\n",
       "    .dataframe tbody tr th {\n",
       "        vertical-align: top;\n",
       "    }\n",
       "\n",
       "    .dataframe thead th {\n",
       "        text-align: right;\n",
       "    }\n",
       "</style>\n",
       "<table border=\"1\" class=\"dataframe\">\n",
       "  <thead>\n",
       "    <tr style=\"text-align: right;\">\n",
       "      <th></th>\n",
       "      <th>starttime</th>\n",
       "      <th>stoptime</th>\n",
       "    </tr>\n",
       "  </thead>\n",
       "  <tbody>\n",
       "    <tr>\n",
       "      <th>0</th>\n",
       "      <td>2018-01-01 02:06:17</td>\n",
       "      <td>2018-01-01 02:21:50</td>\n",
       "    </tr>\n",
       "    <tr>\n",
       "      <th>1</th>\n",
       "      <td>2018-01-01 12:06:18</td>\n",
       "      <td>2018-01-01 12:15:28</td>\n",
       "    </tr>\n",
       "    <tr>\n",
       "      <th>2</th>\n",
       "      <td>2018-01-01 12:06:56</td>\n",
       "      <td>2018-01-01 12:15:27</td>\n",
       "    </tr>\n",
       "    <tr>\n",
       "      <th>3</th>\n",
       "      <td>2018-01-01 14:53:10</td>\n",
       "      <td>2018-01-01 14:59:05</td>\n",
       "    </tr>\n",
       "    <tr>\n",
       "      <th>4</th>\n",
       "      <td>2018-01-01 17:34:30</td>\n",
       "      <td>2018-01-01 17:38:40</td>\n",
       "    </tr>\n",
       "  </tbody>\n",
       "</table>\n",
       "</div>"
      ],
      "text/plain": [
       "             starttime             stoptime\n",
       "0  2018-01-01 02:06:17  2018-01-01 02:21:50\n",
       "1  2018-01-01 12:06:18  2018-01-01 12:15:28\n",
       "2  2018-01-01 12:06:56  2018-01-01 12:15:27\n",
       "3  2018-01-01 14:53:10  2018-01-01 14:59:05\n",
       "4  2018-01-01 17:34:30  2018-01-01 17:38:40"
      ]
     },
     "execution_count": 78,
     "metadata": {},
     "output_type": "execute_result"
    }
   ],
   "source": [
    "mergedTripData[[\"starttime\", \"stoptime\"]].head()"
   ]
  },
  {
   "cell_type": "code",
   "execution_count": 79,
   "metadata": {},
   "outputs": [],
   "source": [
    "# Export file as a CSV, without the Pandas index, but with the header\n",
    "\n",
    "mergedTripData.to_csv(\"TripData/2018TripData.csv\", index=False, header=True)"
   ]
  },
  {
   "cell_type": "code",
   "execution_count": null,
   "metadata": {},
   "outputs": [],
   "source": []
  },
  {
   "cell_type": "code",
   "execution_count": null,
   "metadata": {},
   "outputs": [],
   "source": []
  }
 ],
 "metadata": {
  "kernelspec": {
   "display_name": "Python 3",
   "language": "python",
   "name": "python3"
  },
  "language_info": {
   "codemirror_mode": {
    "name": "ipython",
    "version": 3
   },
   "file_extension": ".py",
   "mimetype": "text/x-python",
   "name": "python",
   "nbconvert_exporter": "python",
   "pygments_lexer": "ipython3",
   "version": "3.7.1"
  }
 },
 "nbformat": 4,
 "nbformat_minor": 2
}
